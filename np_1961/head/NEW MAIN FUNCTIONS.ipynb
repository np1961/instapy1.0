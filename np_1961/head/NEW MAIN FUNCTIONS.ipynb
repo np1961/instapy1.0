{
 "cells": [
  {
   "cell_type": "code",
   "execution_count": null,
   "metadata": {},
   "outputs": [],
   "source": []
  },
  {
   "cell_type": "code",
   "execution_count": 1,
   "metadata": {},
   "outputs": [
    {
     "data": {
      "text/plain": [
       "'/home/np_1961/instagram/black_pr_company/head'"
      ]
     },
     "execution_count": 1,
     "metadata": {},
     "output_type": "execute_result"
    }
   ],
   "source": [
    "pwd"
   ]
  },
  {
   "cell_type": "code",
   "execution_count": null,
   "metadata": {},
   "outputs": [],
   "source": []
  },
  {
   "cell_type": "code",
   "execution_count": null,
   "metadata": {},
   "outputs": [],
   "source": []
  },
  {
   "cell_type": "code",
   "execution_count": null,
   "metadata": {},
   "outputs": [],
   "source": [
    "\n",
    "\n",
    "#python       ----------\n",
    "import os\n",
    "from sys import path\n",
    "from time import time\n",
    "\n",
    "#conda        ----------\n",
    "import numpy as np\n",
    "from pandas import DataFrame\n",
    "\n",
    "\n",
    "#head         ----------\n",
    "from INSTAPY import Instapy\n",
    "\n",
    "#moduls       ----------\n",
    "from Like import like_by_following\n",
    "from Like import like_by_tags\n",
    "from Follow import follow\n",
    "from Story import story\n",
    "from Unfollow import unfollow\n",
    "\n",
    "\n",
    "\n",
    "#utils for organization working\n",
    "              \n",
    "from Print import printer_sell\n",
    "from Process import loading\n",
    "from Questions import questions\n",
    "from Params import preprocessor_params\n",
    "from Time import time_calculator\n",
    "from Emoji import ge\n",
    "\n",
    "\n",
    "\n",
    "\n",
    "\n",
    "#processing_all_in_main |||\n",
    "def main():\n",
    "    clear_values=os.system('clear')\n",
    "    printer_sell(menu_display=True)\n",
    "    start=time()\n",
    "    \n",
    "    moduls=[follow, unfollow, like_by_tags, like_by_following, story]\n",
    "    activate_params,indicators =questions.main_stream()\n",
    "    clear_values=os.system('clear')\n",
    "    printer_sell(menu_display=True)\n",
    "\n",
    "    instapy=Instapy()\n",
    "    for index, column in enumerate(activate_params):\n",
    "        \n",
    "        if indicators[index]:\n",
    "            activate_param=preprocessor_params(series=activate_params[column])\n",
    "\n",
    "            try:\n",
    "                instapy=moduls[index](instapy=instapy,\n",
    "                           activate_param=activate_param)\n",
    "\n",
    "                print(column, 'Finished !!! ')\n",
    "            except:\n",
    "                print('this functions -> ', column, ' errors')\n",
    "                \n",
    "            \n",
    "            \n",
    "            \n",
    "            \n",
    "        else:\n",
    "            print(column, ' is None !!!')\n",
    "            print('And we continue !!! ')\n",
    "            \n",
    "        printer_sell()\n",
    "        loading()\n",
    "        activate_params[column]=emojize[index]\n",
    "        print(activate_params)\n",
    "        \n",
    "    if all(activate_params):\n",
    "        print(' || EXIT ALL CONFLICTING PROCESSES !!! ||')\n",
    "        loading(0.029)\n",
    "        printer_sell()\n",
    "        print('||| ALL PROCESSES WERE SUCCESSFULLY COMPLETED !!! ')\n",
    "        loading()\n",
    "        instapy.exit_and_saving_cookies()\n",
    "        time_calculator(start=start)\n",
    "        printer_sell(menu_display=True)\n",
    "        printer_sell(menu_display=True)\n"
   ]
  },
  {
   "cell_type": "code",
   "execution_count": null,
   "metadata": {},
   "outputs": [],
   "source": []
  },
  {
   "cell_type": "code",
   "execution_count": null,
   "metadata": {},
   "outputs": [],
   "source": []
  },
  {
   "cell_type": "code",
   "execution_count": null,
   "metadata": {},
   "outputs": [],
   "source": []
  },
  {
   "cell_type": "code",
   "execution_count": null,
   "metadata": {},
   "outputs": [],
   "source": []
  },
  {
   "cell_type": "code",
   "execution_count": null,
   "metadata": {},
   "outputs": [],
   "source": []
  },
  {
   "cell_type": "code",
   "execution_count": null,
   "metadata": {},
   "outputs": [],
   "source": []
  },
  {
   "cell_type": "code",
   "execution_count": null,
   "metadata": {},
   "outputs": [],
   "source": []
  },
  {
   "cell_type": "code",
   "execution_count": null,
   "metadata": {},
   "outputs": [],
   "source": []
  },
  {
   "cell_type": "code",
   "execution_count": 14,
   "metadata": {},
   "outputs": [],
   "source": [
    "\n",
    "#python       ----------\n",
    "import os\n",
    "from sys import path\n",
    "from time import time\n",
    "#conda\n",
    "import numpy as np\n",
    "from pandas import DataFrame\n",
    "from info import username\n",
    "\n",
    "path.append('/home/np_1961/instagram/username/head/')\n",
    "path.append('/home/np_1961/instagram/username/head/profile/')\n",
    "path.append('/home/np_1961/instagram/username/head/utils/')\n",
    "path.append('/home/np_1961/instagram/username/head/moduls/')\n",
    "\n",
    "#head\n",
    "from INSTAPY import Instapy\n",
    "from MAIN import main\n",
    "\n",
    "#moduls\n",
    "from Like import like_by_following\n",
    "from Like import like_by_tags\n",
    "from Follow import follow\n",
    "from Story import story\n",
    "from Unfollow import unfollow\n",
    "\n",
    "\n",
    "#utils for organization working\n",
    "from Print import printer_sell\n",
    "from Process import loading\n",
    "from Questions import questions\n",
    "from Params import preprocessor_params\n",
    "from Time import time_calculator\n"
   ]
  },
  {
   "cell_type": "code",
   "execution_count": null,
   "metadata": {},
   "outputs": [],
   "source": []
  },
  {
   "cell_type": "code",
   "execution_count": null,
   "metadata": {},
   "outputs": [],
   "source": []
  },
  {
   "cell_type": "code",
   "execution_count": null,
   "metadata": {},
   "outputs": [],
   "source": []
  },
  {
   "cell_type": "code",
   "execution_count": null,
   "metadata": {},
   "outputs": [],
   "source": []
  },
  {
   "cell_type": "code",
   "execution_count": null,
   "metadata": {},
   "outputs": [],
   "source": []
  },
  {
   "cell_type": "code",
   "execution_count": 15,
   "metadata": {},
   "outputs": [
    {
     "ename": "KeyboardInterrupt",
     "evalue": "",
     "output_type": "error",
     "traceback": [
      "\u001b[0;31m---------------------------------------------------------------------------\u001b[0m",
      "\u001b[0;31mKeyboardInterrupt\u001b[0m                         Traceback (most recent call last)",
      "\u001b[0;32m~/anaconda3/lib/python3.7/site-packages/ipykernel/kernelbase.py\u001b[0m in \u001b[0;36m_input_request\u001b[0;34m(self, prompt, ident, parent, password)\u001b[0m\n\u001b[1;32m    883\u001b[0m             \u001b[0;32mtry\u001b[0m\u001b[0;34m:\u001b[0m\u001b[0;34m\u001b[0m\u001b[0;34m\u001b[0m\u001b[0m\n\u001b[0;32m--> 884\u001b[0;31m                 \u001b[0mident\u001b[0m\u001b[0;34m,\u001b[0m \u001b[0mreply\u001b[0m \u001b[0;34m=\u001b[0m \u001b[0mself\u001b[0m\u001b[0;34m.\u001b[0m\u001b[0msession\u001b[0m\u001b[0;34m.\u001b[0m\u001b[0mrecv\u001b[0m\u001b[0;34m(\u001b[0m\u001b[0mself\u001b[0m\u001b[0;34m.\u001b[0m\u001b[0mstdin_socket\u001b[0m\u001b[0;34m,\u001b[0m \u001b[0;36m0\u001b[0m\u001b[0;34m)\u001b[0m\u001b[0;34m\u001b[0m\u001b[0;34m\u001b[0m\u001b[0m\n\u001b[0m\u001b[1;32m    885\u001b[0m             \u001b[0;32mexcept\u001b[0m \u001b[0mException\u001b[0m\u001b[0;34m:\u001b[0m\u001b[0;34m\u001b[0m\u001b[0;34m\u001b[0m\u001b[0m\n",
      "\u001b[0;32m~/anaconda3/lib/python3.7/site-packages/jupyter_client/session.py\u001b[0m in \u001b[0;36mrecv\u001b[0;34m(self, socket, mode, content, copy)\u001b[0m\n\u001b[1;32m    802\u001b[0m         \u001b[0;32mtry\u001b[0m\u001b[0;34m:\u001b[0m\u001b[0;34m\u001b[0m\u001b[0;34m\u001b[0m\u001b[0m\n\u001b[0;32m--> 803\u001b[0;31m             \u001b[0mmsg_list\u001b[0m \u001b[0;34m=\u001b[0m \u001b[0msocket\u001b[0m\u001b[0;34m.\u001b[0m\u001b[0mrecv_multipart\u001b[0m\u001b[0;34m(\u001b[0m\u001b[0mmode\u001b[0m\u001b[0;34m,\u001b[0m \u001b[0mcopy\u001b[0m\u001b[0;34m=\u001b[0m\u001b[0mcopy\u001b[0m\u001b[0;34m)\u001b[0m\u001b[0;34m\u001b[0m\u001b[0;34m\u001b[0m\u001b[0m\n\u001b[0m\u001b[1;32m    804\u001b[0m         \u001b[0;32mexcept\u001b[0m \u001b[0mzmq\u001b[0m\u001b[0;34m.\u001b[0m\u001b[0mZMQError\u001b[0m \u001b[0;32mas\u001b[0m \u001b[0me\u001b[0m\u001b[0;34m:\u001b[0m\u001b[0;34m\u001b[0m\u001b[0;34m\u001b[0m\u001b[0m\n",
      "\u001b[0;32m~/anaconda3/lib/python3.7/site-packages/zmq/sugar/socket.py\u001b[0m in \u001b[0;36mrecv_multipart\u001b[0;34m(self, flags, copy, track)\u001b[0m\n\u001b[1;32m    474\u001b[0m         \"\"\"\n\u001b[0;32m--> 475\u001b[0;31m         \u001b[0mparts\u001b[0m \u001b[0;34m=\u001b[0m \u001b[0;34m[\u001b[0m\u001b[0mself\u001b[0m\u001b[0;34m.\u001b[0m\u001b[0mrecv\u001b[0m\u001b[0;34m(\u001b[0m\u001b[0mflags\u001b[0m\u001b[0;34m,\u001b[0m \u001b[0mcopy\u001b[0m\u001b[0;34m=\u001b[0m\u001b[0mcopy\u001b[0m\u001b[0;34m,\u001b[0m \u001b[0mtrack\u001b[0m\u001b[0;34m=\u001b[0m\u001b[0mtrack\u001b[0m\u001b[0;34m)\u001b[0m\u001b[0;34m]\u001b[0m\u001b[0;34m\u001b[0m\u001b[0;34m\u001b[0m\u001b[0m\n\u001b[0m\u001b[1;32m    476\u001b[0m         \u001b[0;31m# have first part already, only loop while more to receive\u001b[0m\u001b[0;34m\u001b[0m\u001b[0;34m\u001b[0m\u001b[0;34m\u001b[0m\u001b[0m\n",
      "\u001b[0;32mzmq/backend/cython/socket.pyx\u001b[0m in \u001b[0;36mzmq.backend.cython.socket.Socket.recv\u001b[0;34m()\u001b[0m\n",
      "\u001b[0;32mzmq/backend/cython/socket.pyx\u001b[0m in \u001b[0;36mzmq.backend.cython.socket.Socket.recv\u001b[0;34m()\u001b[0m\n",
      "\u001b[0;32mzmq/backend/cython/socket.pyx\u001b[0m in \u001b[0;36mzmq.backend.cython.socket._recv_copy\u001b[0;34m()\u001b[0m\n",
      "\u001b[0;32m~/anaconda3/lib/python3.7/site-packages/zmq/backend/cython/checkrc.pxd\u001b[0m in \u001b[0;36mzmq.backend.cython.checkrc._check_rc\u001b[0;34m()\u001b[0m\n",
      "\u001b[0;31mKeyboardInterrupt\u001b[0m: ",
      "\nDuring handling of the above exception, another exception occurred:\n",
      "\u001b[0;31mKeyboardInterrupt\u001b[0m                         Traceback (most recent call last)",
      "\u001b[0;32m<ipython-input-15-263240bbee7e>\u001b[0m in \u001b[0;36m<module>\u001b[0;34m\u001b[0m\n\u001b[0;32m----> 1\u001b[0;31m \u001b[0mmain\u001b[0m\u001b[0;34m(\u001b[0m\u001b[0;34m)\u001b[0m\u001b[0;34m\u001b[0m\u001b[0;34m\u001b[0m\u001b[0m\n\u001b[0m",
      "\u001b[0;32m~/instagram/black_pr_company/head/MAIN.py\u001b[0m in \u001b[0;36mmain\u001b[0;34m()\u001b[0m\n\u001b[1;32m     41\u001b[0m \u001b[0;34m\u001b[0m\u001b[0m\n\u001b[1;32m     42\u001b[0m     \u001b[0mmoduls\u001b[0m\u001b[0;34m=\u001b[0m\u001b[0;34m[\u001b[0m\u001b[0mfollow\u001b[0m\u001b[0;34m,\u001b[0m \u001b[0munfollow\u001b[0m\u001b[0;34m,\u001b[0m \u001b[0mlike_by_tags\u001b[0m\u001b[0;34m,\u001b[0m \u001b[0mlike_by_following\u001b[0m\u001b[0;34m,\u001b[0m \u001b[0mstory\u001b[0m\u001b[0;34m]\u001b[0m\u001b[0;34m\u001b[0m\u001b[0;34m\u001b[0m\u001b[0m\n\u001b[0;32m---> 43\u001b[0;31m     \u001b[0mactivate_params\u001b[0m\u001b[0;34m,\u001b[0m\u001b[0mindicators\u001b[0m \u001b[0;34m=\u001b[0m\u001b[0mquestions\u001b[0m\u001b[0;34m.\u001b[0m\u001b[0mmain_stream\u001b[0m\u001b[0;34m(\u001b[0m\u001b[0;34m)\u001b[0m\u001b[0;34m\u001b[0m\u001b[0;34m\u001b[0m\u001b[0m\n\u001b[0m\u001b[1;32m     44\u001b[0m \u001b[0;34m\u001b[0m\u001b[0m\n\u001b[1;32m     45\u001b[0m \u001b[0;34m\u001b[0m\u001b[0m\n",
      "\u001b[0;32m~/instagram/black_pr_company/head/utils/Questions.py\u001b[0m in \u001b[0;36mmain_stream\u001b[0;34m()\u001b[0m\n\u001b[1;32m    101\u001b[0m     \u001b[0;32mdef\u001b[0m \u001b[0mmain_stream\u001b[0m\u001b[0;34m(\u001b[0m\u001b[0;34m)\u001b[0m\u001b[0;34m:\u001b[0m\u001b[0;34m\u001b[0m\u001b[0;34m\u001b[0m\u001b[0m\n\u001b[1;32m    102\u001b[0m         \u001b[0mquestions_box\u001b[0m\u001b[0;34m=\u001b[0m\u001b[0mquestions\u001b[0m\u001b[0;34m.\u001b[0m\u001b[0mquestions_box\u001b[0m\u001b[0;34m(\u001b[0m\u001b[0;34m)\u001b[0m\u001b[0;34m\u001b[0m\u001b[0;34m\u001b[0m\u001b[0m\n\u001b[0;32m--> 103\u001b[0;31m         \u001b[0mquestions_vector\u001b[0m\u001b[0;34m=\u001b[0m\u001b[0mquestions\u001b[0m\u001b[0;34m.\u001b[0m\u001b[0mquestion_method\u001b[0m\u001b[0;34m(\u001b[0m\u001b[0mquestions_data\u001b[0m\u001b[0;34m=\u001b[0m\u001b[0mquestions_box\u001b[0m\u001b[0;34m)\u001b[0m\u001b[0;34m\u001b[0m\u001b[0;34m\u001b[0m\u001b[0m\n\u001b[0m\u001b[1;32m    104\u001b[0m         \u001b[0mquestions_matrix\u001b[0m\u001b[0;34m=\u001b[0m\u001b[0mquestions\u001b[0m\u001b[0;34m.\u001b[0m\u001b[0mpreprocessor\u001b[0m\u001b[0;34m(\u001b[0m\u001b[0mvector\u001b[0m\u001b[0;34m=\u001b[0m\u001b[0mquestions_vector\u001b[0m\u001b[0;34m)\u001b[0m\u001b[0;34m\u001b[0m\u001b[0;34m\u001b[0m\u001b[0m\n\u001b[1;32m    105\u001b[0m \u001b[0;34m\u001b[0m\u001b[0m\n",
      "\u001b[0;32m~/instagram/black_pr_company/head/utils/Questions.py\u001b[0m in \u001b[0;36mquestion_method\u001b[0;34m(questions_data)\u001b[0m\n\u001b[1;32m     79\u001b[0m \u001b[0;34m\u001b[0m\u001b[0m\n\u001b[1;32m     80\u001b[0m \u001b[0;34m\u001b[0m\u001b[0m\n\u001b[0;32m---> 81\u001b[0;31m         \u001b[0;32mreturn\u001b[0m \u001b[0mask\u001b[0m\u001b[0;34m(\u001b[0m\u001b[0mquestions_data\u001b[0m\u001b[0;34m,\u001b[0m\u001b[0mmoment\u001b[0m\u001b[0;34m)\u001b[0m\u001b[0;34m\u001b[0m\u001b[0;34m\u001b[0m\u001b[0m\n\u001b[0m\u001b[1;32m     82\u001b[0m \u001b[0;34m\u001b[0m\u001b[0m\n\u001b[1;32m     83\u001b[0m     \u001b[0;32mdef\u001b[0m \u001b[0mpreprocessor\u001b[0m\u001b[0;34m(\u001b[0m\u001b[0mvector\u001b[0m\u001b[0;34m)\u001b[0m\u001b[0;34m:\u001b[0m\u001b[0;34m\u001b[0m\u001b[0;34m\u001b[0m\u001b[0m\n",
      "\u001b[0;32m~/instagram/black_pr_company/head/utils/Questions.py\u001b[0m in \u001b[0;36mask\u001b[0;34m(questions_data, moment)\u001b[0m\n\u001b[1;32m     51\u001b[0m             \u001b[0;32mif\u001b[0m \u001b[0mmoment\u001b[0m\u001b[0;34m%\u001b[0m\u001b[0;36m5\u001b[0m\u001b[0;34m==\u001b[0m\u001b[0;36m1\u001b[0m\u001b[0;34m:\u001b[0m\u001b[0;34m\u001b[0m\u001b[0;34m\u001b[0m\u001b[0m\n\u001b[1;32m     52\u001b[0m                 \u001b[0mloading\u001b[0m\u001b[0;34m(\u001b[0m\u001b[0;34m)\u001b[0m\u001b[0;34m\u001b[0m\u001b[0;34m\u001b[0m\u001b[0m\n\u001b[0;32m---> 53\u001b[0;31m             \u001b[0mvalue\u001b[0m\u001b[0;34m=\u001b[0m\u001b[0minput\u001b[0m\u001b[0;34m(\u001b[0m\u001b[0mquestions_data\u001b[0m\u001b[0;34m[\u001b[0m\u001b[0mmoment\u001b[0m\u001b[0;34m]\u001b[0m\u001b[0;34m)\u001b[0m\u001b[0;34m\u001b[0m\u001b[0;34m\u001b[0m\u001b[0m\n\u001b[0m\u001b[1;32m     54\u001b[0m \u001b[0;34m\u001b[0m\u001b[0m\n\u001b[1;32m     55\u001b[0m             \u001b[0;32mif\u001b[0m \u001b[0mvalue\u001b[0m\u001b[0;34m==\u001b[0m\u001b[0;34m'cd ..'\u001b[0m\u001b[0;34m:\u001b[0m\u001b[0;34m\u001b[0m\u001b[0;34m\u001b[0m\u001b[0m\n",
      "\u001b[0;32m~/anaconda3/lib/python3.7/site-packages/ipykernel/kernelbase.py\u001b[0m in \u001b[0;36mraw_input\u001b[0;34m(self, prompt)\u001b[0m\n\u001b[1;32m    857\u001b[0m             \u001b[0mself\u001b[0m\u001b[0;34m.\u001b[0m\u001b[0m_parent_ident\u001b[0m\u001b[0;34m,\u001b[0m\u001b[0;34m\u001b[0m\u001b[0;34m\u001b[0m\u001b[0m\n\u001b[1;32m    858\u001b[0m             \u001b[0mself\u001b[0m\u001b[0;34m.\u001b[0m\u001b[0m_parent_header\u001b[0m\u001b[0;34m,\u001b[0m\u001b[0;34m\u001b[0m\u001b[0;34m\u001b[0m\u001b[0m\n\u001b[0;32m--> 859\u001b[0;31m             \u001b[0mpassword\u001b[0m\u001b[0;34m=\u001b[0m\u001b[0;32mFalse\u001b[0m\u001b[0;34m,\u001b[0m\u001b[0;34m\u001b[0m\u001b[0;34m\u001b[0m\u001b[0m\n\u001b[0m\u001b[1;32m    860\u001b[0m         )\n\u001b[1;32m    861\u001b[0m \u001b[0;34m\u001b[0m\u001b[0m\n",
      "\u001b[0;32m~/anaconda3/lib/python3.7/site-packages/ipykernel/kernelbase.py\u001b[0m in \u001b[0;36m_input_request\u001b[0;34m(self, prompt, ident, parent, password)\u001b[0m\n\u001b[1;32m    887\u001b[0m             \u001b[0;32mexcept\u001b[0m \u001b[0mKeyboardInterrupt\u001b[0m\u001b[0;34m:\u001b[0m\u001b[0;34m\u001b[0m\u001b[0;34m\u001b[0m\u001b[0m\n\u001b[1;32m    888\u001b[0m                 \u001b[0;31m# re-raise KeyboardInterrupt, to truncate traceback\u001b[0m\u001b[0;34m\u001b[0m\u001b[0;34m\u001b[0m\u001b[0;34m\u001b[0m\u001b[0m\n\u001b[0;32m--> 889\u001b[0;31m                 \u001b[0;32mraise\u001b[0m \u001b[0mKeyboardInterrupt\u001b[0m\u001b[0;34m\u001b[0m\u001b[0;34m\u001b[0m\u001b[0m\n\u001b[0m\u001b[1;32m    890\u001b[0m             \u001b[0;32melse\u001b[0m\u001b[0;34m:\u001b[0m\u001b[0;34m\u001b[0m\u001b[0;34m\u001b[0m\u001b[0m\n\u001b[1;32m    891\u001b[0m                 \u001b[0;32mbreak\u001b[0m\u001b[0;34m\u001b[0m\u001b[0;34m\u001b[0m\u001b[0m\n",
      "\u001b[0;31mKeyboardInterrupt\u001b[0m: "
     ]
    }
   ],
   "source": [
    "main()"
   ]
  },
  {
   "cell_type": "code",
   "execution_count": null,
   "metadata": {
    "collapsed": true
   },
   "outputs": [],
   "source": []
  },
  {
   "cell_type": "code",
   "execution_count": 6,
   "metadata": {},
   "outputs": [
    {
     "name": "stdout",
     "output_type": "stream",
     "text": [
      "like this post success->https://www.instagram.com/p/CZ7BHbmoeieuLgzFYOhAWUmJoPrF8khlkNIEkg0/#\n",
      "like this post success->https://www.instagram.com/p/B2xByxshALpu2MS8Nc0w40cYLfm7KFwwAzE0Bg0/\n",
      "like this post success->https://www.instagram.com/p/CZ7BHbmoeieuLgzFYOhAWUmJoPrF8khlkNIEkg0/\n",
      "###############################################\n",
      "likes on profile mesropyan__  are over->\n",
      "like this post success->https://www.instagram.com/p/CradG6Lg9Lz7PazrxJhcLy5i0oa16qsmWf5Ijk0/\n",
      "like this post success->https://www.instagram.com/p/CrYBh5aArnpVXofhUc-c8fUQWEXuqg4UJSyiMQ0/\n",
      "like this post success->https://www.instagram.com/p/Crm_R4rAM3Vl6EEkeFVpvqcbyFvzVZvOItHXvo0/\n"
     ]
    },
    {
     "data": {
      "text/plain": [
       "<INSTAPY.INSTAPY at 0x7f90e471d810>"
      ]
     },
     "execution_count": 6,
     "metadata": {},
     "output_type": "execute_result"
    }
   ],
   "source": [
    "like_by_following(instapy=instapy, activate_param=['yes', 2,3,2])"
   ]
  },
  {
   "cell_type": "code",
   "execution_count": null,
   "metadata": {},
   "outputs": [],
   "source": []
  },
  {
   "cell_type": "code",
   "execution_count": 9,
   "metadata": {},
   "outputs": [
    {
     "name": "stdout",
     "output_type": "stream",
     "text": [
      "import follow methods ? ->no\n",
      "import unfollow methods ? ->no\n",
      "import like by tags methods ? ->no\n",
      "import like by following methods? -> cd ..\n",
      "<-- <--\n",
      "---breaks between sessions ? ->cd ..\n",
      "<-- <--\n",
      "---how many successful attempts do you want to make ? ->cd ..\n",
      "<-- <--\n",
      "---how much do you want to go down the scrolls? ->cd ..\n",
      "<-- <--\n",
      "|████████████████████████████████████████| 100/100 [100%] in 0.9s (109.40/s) \n",
      "---what is the hashtag ? ->cd ..\n",
      "<-- <--\n",
      "import like by tags methods ? ->yes\n",
      "|████████████████████████████████████████| 100/100 [100%] in 0.9s (109.40/s) \n",
      "---what is the hashtag ? ->bmw\n",
      "---how much do you want to go down the scrolls? ->2\n",
      "---how many successful attempts do you want to make ? ->2\n",
      "---breaks between sessions ? ->2\n",
      "import like by following methods? -> no\n",
      "import story methods ? ->no\n",
      "\n",
      "\n",
      "|████████████████████████████████████████| 100/100 [100%] in 2.0s (49.63/s) \n",
      "Please do not touch the computer because we are starting now !!! \n",
      "🤚🤚🤚🤚🤚🤚🤚🤚🤚🤚🤚🤚🤚🤚🤚🤚🤚🤚🤚🤚\n",
      "|████████████████████████████████████████| 100/100 [100%] in 9.0s (11.08/s) \n",
      "###############################################################################\n",
      "###############################################################################\n",
      "###############################################################################\n",
      "###############################################################################\n",
      "###############################################################################\n",
      "###############################################################################\n",
      "follow  is None !!!\n",
      "And we continue !!! \n",
      "|████████████████████████████████████████| 100/100 [100%] in 0.9s (109.35/s) \n",
      "###############################################################################\n",
      "###############################################################################\n",
      "###############################################################################\n",
      "###############################################################################\n",
      "###############################################################################\n",
      "###############################################################################\n",
      "unfollow  is None !!!\n",
      "And we continue !!! \n",
      "|████████████████████████████████████████| 100/100 [100%] in 0.9s (109.33/s) \n",
      "###############################################################################\n",
      "###############################################################################\n",
      "###############################################################################\n",
      "###############################################################################\n",
      "###############################################################################\n",
      "###############################################################################\n",
      "like this post success->https://www.instagram.com/p/Crlz9exrRMG/\n",
      "like this post success->https://www.instagram.com/p/CroYXkHroiB/\n",
      "like by tags -@bmw-> success- True\n",
      "likes 2-> success- True\n",
      "like by tags Finished !!! \n",
      "|████████████████████████████████████████| 100/100 [100%] in 0.9s (109.42/s) \n",
      "###############################################################################\n",
      "###############################################################################\n",
      "###############################################################################\n",
      "###############################################################################\n",
      "###############################################################################\n",
      "###############################################################################\n",
      "like by following  is None !!!\n",
      "And we continue !!! \n",
      "|████████████████████████████████████████| 100/100 [100%] in 0.9s (109.19/s) \n",
      "###############################################################################\n",
      "###############################################################################\n",
      "###############################################################################\n",
      "###############################################################################\n",
      "###############################################################################\n",
      "###############################################################################\n",
      "story  is None !!!\n",
      "And we continue !!! \n",
      "|████████████████████████████████████████| 100/100 [100%] in 0.9s (109.40/s) \n"
     ]
    }
   ],
   "source": [
    "main(instapy=instapy)"
   ]
  },
  {
   "cell_type": "code",
   "execution_count": 11,
   "metadata": {},
   "outputs": [
    {
     "data": {
      "text/plain": [
       "True"
      ]
     },
     "execution_count": 11,
     "metadata": {},
     "output_type": "execute_result"
    }
   ],
   "source": [
    "all(values)"
   ]
  },
  {
   "cell_type": "code",
   "execution_count": null,
   "metadata": {},
   "outputs": [],
   "source": []
  },
  {
   "cell_type": "code",
   "execution_count": null,
   "metadata": {},
   "outputs": [],
   "source": []
  }
 ],
 "metadata": {
  "kernelspec": {
   "display_name": "Python 3",
   "language": "python",
   "name": "python3"
  },
  "language_info": {
   "codemirror_mode": {
    "name": "ipython",
    "version": 3
   },
   "file_extension": ".py",
   "mimetype": "text/x-python",
   "name": "python",
   "nbconvert_exporter": "python",
   "pygments_lexer": "ipython3",
   "version": "3.7.6"
  }
 },
 "nbformat": 4,
 "nbformat_minor": 4
}
